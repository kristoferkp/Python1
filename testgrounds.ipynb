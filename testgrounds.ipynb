{
 "cells": [
  {
   "cell_type": "code",
   "execution_count": 2,
   "metadata": {},
   "outputs": [
    {
     "name": "stdout",
     "output_type": "stream",
     "text": [
      "2\n",
      "----\n",
      "-2\n",
      "0\n",
      "6\n",
      "----\n",
      "3\n",
      "7\n"
     ]
    }
   ],
   "source": [
    "järjend = [3, -2, 7, 0, 2, 6]\n",
    "\n",
    "print(järjend[järjend[1] + järjend[3]])\n",
    "print(\"----\")\n",
    "\n",
    "for i in range(1, len(järjend), 2):\n",
    "    print(järjend[i])\n",
    "print(\"----\")\n",
    "for arv in järjend:\n",
    "    if arv % 2 == 1:\n",
    "        print(arv)"
   ]
  },
  {
   "cell_type": "code",
   "execution_count": null,
   "metadata": {},
   "outputs": [],
   "source": []
  },
  {
   "cell_type": "code",
   "execution_count": 5,
   "metadata": {},
   "outputs": [
    {
     "name": "stdout",
     "output_type": "stream",
     "text": [
      "2\n",
      "6\n",
      "14\n",
      "Tulemus on 17\n"
     ]
    }
   ],
   "source": [
    "def funktsioon1(arv):\n",
    "    s = 2\n",
    "    a = arv\n",
    "    while a + s <= 14:\n",
    "        s += a\n",
    "        a += 4\n",
    "        print(s)\n",
    "    return s\n",
    "\n",
    "print(\"Tulemus on \" + str(funktsioon1(0) + 3))\n"
   ]
  },
  {
   "cell_type": "code",
   "execution_count": 6,
   "metadata": {},
   "outputs": [
    {
     "name": "stdout",
     "output_type": "stream",
     "text": [
      "2\n",
      "----\n",
      "4\n",
      "12\n",
      "20\n"
     ]
    }
   ],
   "source": [
    "def topeldus(arv):\n",
    "    return 2 * arv\n",
    "\n",
    "m = 1\n",
    "print(topeldus(m))\n",
    "print(\"----\")\n",
    "\n",
    "while m < 6 and m != 4:\n",
    "    print(topeldus(topeldus(m)))\n",
    "    m += 2\n"
   ]
  },
  {
   "cell_type": "code",
   "execution_count": null,
   "metadata": {},
   "outputs": [],
   "source": [
    "punktid = int(input(\"Sisesta punktide arv: \"))\n",
    "if punktid > 90:\n",
    "    print(\"Hinne A\")\n",
    "else: \n",
    "    if punktid > 80:\n",
    "        print(\"Hinne B\")\n",
    "    else:\n",
    "        print(\"Hinne ei ole A ega B\")"
   ]
  },
  {
   "cell_type": "code",
   "execution_count": null,
   "metadata": {},
   "outputs": [],
   "source": [
    "sisend = int(input(\"Palun sisestage täisarv: \"))\n",
    "if sisend > 0:\n",
    "    if sisend > 5:\n",
    "        print(\"Haru 1\")\n",
    "    if sisend > 10:\n",
    "        print(\"Haru 2\")\n",
    "    else:\n",
    "        print(\"Haru 3\")\n",
    "else:\n",
    "    if sisend != 0:\n",
    "        print(\"Haru 4\")\n",
    "\n"
   ]
  }
 ],
 "metadata": {
  "kernelspec": {
   "display_name": "Python 3",
   "language": "python",
   "name": "python3"
  },
  "language_info": {
   "codemirror_mode": {
    "name": "ipython",
    "version": 3
   },
   "file_extension": ".py",
   "mimetype": "text/x-python",
   "name": "python",
   "nbconvert_exporter": "python",
   "pygments_lexer": "ipython3",
   "version": "3.10.13"
  }
 },
 "nbformat": 4,
 "nbformat_minor": 2
}
